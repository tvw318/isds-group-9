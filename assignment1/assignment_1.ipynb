{
 "cells": [
  {
   "cell_type": "markdown",
   "source": [
    "# Mandatory Assignment 1\n",
    "\n",
    "This is the second of three mandatory assignments which must be completed during the course. Note that you only need to pass 2 out of 3 assignments to be eligible for the exam.\n",
    "\n",
    "First some practical pieces of information:\n",
    "\n",
    "* When is the assignment due?: **23:59, Friday, August 6, 2020.**\n",
    "* Should i work with my group?: **Yes**. In particular, you should **only hand in 1 assignment per group and in a comment on Absalon write your group number and all group members**. \n",
    "\n",
    "The assignment consists of problems from some of the exercise sets that you have solved so far. Some exercises are modified a little to better suit the structure of the assignment. \n",
    "\n",
    "**Note**: It is important that you submit your edited version of THIS [notebook](https://fileinfo.com/extension/ipynb#:~:text=An%20IPYNB%20file%20is%20a,Python%20language%20and%20their%20data.) (the one you have downloaded from Absalon) as a .ipynb file and nothing else. Do not copy your answers into another notebook that you have made. "
   ],
   "metadata": {
    "deletable": false,
    "editable": false,
    "nbgrader": {
     "cell_type": "markdown",
     "checksum": "89a0428f50e9e3d64e07131f0679f71d",
     "grade": false,
     "grade_id": "cell-d8b377aba23d9f3a",
     "locked": true,
     "schema_version": 3,
     "solution": false,
     "task": false
    }
   }
  },
  {
   "cell_type": "markdown",
   "source": [
    "## Problems from Exercise Set 2:\n",
    "\n",
    "We continue with the exercise that analyzes NOAA data. This time we are going to **read the weather data from a csv file** located in this assignment directory instead of trying to request the website. The file is called `'weather_data_1870-1875.csv'` and consists of weather data for the period 1870-1875. Specifically, the csv file contains a dataframe which has been constructed by concatenating the _non-processed_ data from 1870-1875."
   ],
   "metadata": {
    "deletable": false,
    "editable": false,
    "nbgrader": {
     "cell_type": "markdown",
     "checksum": "3bdaca21351127ed0e82dce43ad7d77b",
     "grade": false,
     "grade_id": "cell-e5576badd2b58d90",
     "locked": true,
     "schema_version": 3,
     "solution": false,
     "task": false
    }
   }
  },
  {
   "cell_type": "markdown",
   "source": [
    "> **Ex. 2.3.4:** The code below runs through some of the steps we completed in exercise 2.3.4 in Module 2. As we are not going to request the website but load the data from a csv file, your task is to **rewrite parts of the function**. In particular, you need to do the following:\n",
    ">1. Rename the function to `process_weather` instead of `load_weather`. \n",
    ">2. The function should now  take a `dataframe` as input. \n",
    ">3. Consider whether `df_weather.iloc[:, :4]` is necessary for the weather data loaded from  the csv file. The documentation string should also be rewritten appropriately. \n",
    ">4. The function contains a sorting step. **Change it so that it first sorts by _station_, then by _datetime_. The sorting should be ascending for _station_ and descending for _datetime_.** \n",
    ">5. After having rewritten the function, load the weather data from `'weather_data_1870-1875.csv'` into a pandas dataframe, apply the `process_weather` function to this dataframe, and store the result in the variable `df_weather_period`.\n",
    "\n",
    "```python\n",
    "import pandas as pd\n",
    "\n",
    "def load_weather(year):\n",
    "    \n",
    "    '''\n",
    "    This functions loads the data for selected year and then structures and cleans it.\n",
    "    - Structuring includes removing unused columns, renaming and selecting only observations \n",
    "    of maximum temperature. \n",
    "    - Cleaning includes inserting missing decimal, sorting and resetting index.\n",
    "    '''\n",
    "    url = f\"ftp://ftp.ncdc.noaa.gov/pub/data/ghcn/daily/by_year/{year}.csv.gz\"\n",
    "    \n",
    "    # loads the data\n",
    "    df_weather = pd.read_csv(url, header=None)\\\n",
    "                    .iloc[:,:4] \n",
    "    \n",
    "    # structure and clean data using methods chaining\n",
    "    # note that the original columns now are strings when loading the csv file\n",
    "    # and not integers as when downloading the data\n",
    "    df_out = \\\n",
    "        df_weather\\\n",
    "            .rename(columns={'0': 'station', '1': 'datetime', '2': 'obs_type', '3': 'obs_value'})\\\n",
    "            .query(\"obs_type == 'TMAX'\")\\\n",
    "            .assign(obs_value=lambda df: df['obs_value']/10)\\\n",
    "            .sort_values(by=['station', 'datetime'])\\\n",
    "            .reset_index(drop=True)\\\n",
    "            .copy() \n",
    "\n",
    "    # area process\n",
    "    df_out['area'] = df_out['station'].str[0:2]\n",
    "    \n",
    "    # datetime process\n",
    "    df_out['datetime_dt'] = pd.to_datetime(df_out['datetime'], format = '%Y%m%d')\n",
    "    df_out['month'] = df_out['datetime_dt'].dt.month\n",
    "    df_out['year'] = df_out['datetime_dt'].dt.year\n",
    "    \n",
    "    return df_out\n",
    "```"
   ],
   "metadata": {
    "deletable": false,
    "editable": false,
    "nbgrader": {
     "cell_type": "markdown",
     "checksum": "27c3c562f2d291d26ca22c058a3f6fcf",
     "grade": false,
     "grade_id": "cell-3949fc8a0311b795",
     "locked": true,
     "schema_version": 3,
     "solution": false,
     "task": false
    }
   }
  },
  {
   "cell_type": "code",
   "execution_count": 71,
   "source": [
    "import pandas as pd\r\n",
    "\r\n",
    "def process_weather(dataframe):\r\n",
    "    \r\n",
    "    '''\r\n",
    "    This function read the weather data from a csv file, which contains \r\n",
    "    a dataframe which has been constructed by concatenating the non-processed data\r\n",
    "    for selected years and then structures and cleans it.\r\n",
    "    - Structuring includes renaming columns and selecting only observations \r\n",
    "    of maximum temperature.\r\n",
    "    - Cleaning includes inserting missing decimal, sorting and resetting index.\r\n",
    "    '''\r\n",
    "\r\n",
    "    # loads the data\r\n",
    "    df_weather = pd.read_csv(dataframe, header=None)\r\n",
    "    \r\n",
    "    # structure and clean data using methods chaining\r\n",
    "    # note that the columns now are strings\r\n",
    "    df_out = \\\r\n",
    "        df_weather\\\r\n",
    "            .rename(columns={0: 'station', 1: 'datetime', 2: 'obs_type', 3: 'obs_value'})\\\r\n",
    "            .query(\"obs_type == 'TMAX'\")\\\r\n",
    "            .assign(obs_value=lambda df: df['obs_value']/10)\\\r\n",
    "            .sort_values(by=['station', 'datetime'], ascending=[True, False])\\\r\n",
    "            .reset_index(drop=True)\\\r\n",
    "            .copy()\r\n",
    "\r\n",
    "    # area process\r\n",
    "    df_out['area'] = df_out['station'].str[0:2]\r\n",
    "    \r\n",
    "    # datetime process\r\n",
    "    df_out['datetime_dt'] = pd.to_datetime(df_out['datetime'], format = '%Y%m%d')\r\n",
    "    df_out['month'] = df_out['datetime_dt'].dt.month\r\n",
    "    df_out['year'] = df_out['datetime_dt'].dt.year\r\n",
    "    \r\n",
    "    return df_out\r\n",
    "# hej piger "
   ],
   "outputs": [],
   "metadata": {
    "deletable": false,
    "nbgrader": {
     "cell_type": "code",
     "checksum": "b0fcfb2b712a697a2c519e6f2d4102b6",
     "grade": false,
     "grade_id": "problem_234",
     "locked": false,
     "schema_version": 3,
     "solution": true,
     "task": false
    }
   }
  },
  {
   "cell_type": "code",
   "execution_count": 95,
   "source": [
    "# load the weather data from 1870-1875\r\n",
    "df_weather_period = process_weather('weather_data_1870-1875.csv')\r\n",
    "df_weather_period"
   ],
   "outputs": [
    {
     "output_type": "execute_result",
     "data": {
      "text/plain": [
       "            station  datetime obs_type  obs_value area datetime_dt  month  \\\n",
       "0       ASN00048013  18751117     TMAX       38.3   AS  1875-11-17     11   \n",
       "1       ASN00048013  18751116     TMAX       33.8   AS  1875-11-16     11   \n",
       "2       ASN00048013  18751115     TMAX       32.8   AS  1875-11-15     11   \n",
       "3       ASN00048013  18751114     TMAX       35.6   AS  1875-11-14     11   \n",
       "4       ASN00048013  18751113     TMAX       29.7   AS  1875-11-13     11   \n",
       "...             ...       ...      ...        ...  ...         ...    ...   \n",
       "132312  USW00094728  18700105     TMAX        1.1   US  1870-01-05      1   \n",
       "132313  USW00094728  18700104     TMAX        1.7   US  1870-01-04      1   \n",
       "132314  USW00094728  18700103     TMAX        5.0   US  1870-01-03      1   \n",
       "132315  USW00094728  18700102     TMAX       12.2   US  1870-01-02      1   \n",
       "132316  USW00094728  18700101     TMAX        6.1   US  1870-01-01      1   \n",
       "\n",
       "        year  \n",
       "0       1875  \n",
       "1       1875  \n",
       "2       1875  \n",
       "3       1875  \n",
       "4       1875  \n",
       "...      ...  \n",
       "132312  1870  \n",
       "132313  1870  \n",
       "132314  1870  \n",
       "132315  1870  \n",
       "132316  1870  \n",
       "\n",
       "[132317 rows x 8 columns]"
      ],
      "text/html": [
       "<div>\n",
       "<style scoped>\n",
       "    .dataframe tbody tr th:only-of-type {\n",
       "        vertical-align: middle;\n",
       "    }\n",
       "\n",
       "    .dataframe tbody tr th {\n",
       "        vertical-align: top;\n",
       "    }\n",
       "\n",
       "    .dataframe thead th {\n",
       "        text-align: right;\n",
       "    }\n",
       "</style>\n",
       "<table border=\"1\" class=\"dataframe\">\n",
       "  <thead>\n",
       "    <tr style=\"text-align: right;\">\n",
       "      <th></th>\n",
       "      <th>station</th>\n",
       "      <th>datetime</th>\n",
       "      <th>obs_type</th>\n",
       "      <th>obs_value</th>\n",
       "      <th>area</th>\n",
       "      <th>datetime_dt</th>\n",
       "      <th>month</th>\n",
       "      <th>year</th>\n",
       "    </tr>\n",
       "  </thead>\n",
       "  <tbody>\n",
       "    <tr>\n",
       "      <th>0</th>\n",
       "      <td>ASN00048013</td>\n",
       "      <td>18751117</td>\n",
       "      <td>TMAX</td>\n",
       "      <td>38.3</td>\n",
       "      <td>AS</td>\n",
       "      <td>1875-11-17</td>\n",
       "      <td>11</td>\n",
       "      <td>1875</td>\n",
       "    </tr>\n",
       "    <tr>\n",
       "      <th>1</th>\n",
       "      <td>ASN00048013</td>\n",
       "      <td>18751116</td>\n",
       "      <td>TMAX</td>\n",
       "      <td>33.8</td>\n",
       "      <td>AS</td>\n",
       "      <td>1875-11-16</td>\n",
       "      <td>11</td>\n",
       "      <td>1875</td>\n",
       "    </tr>\n",
       "    <tr>\n",
       "      <th>2</th>\n",
       "      <td>ASN00048013</td>\n",
       "      <td>18751115</td>\n",
       "      <td>TMAX</td>\n",
       "      <td>32.8</td>\n",
       "      <td>AS</td>\n",
       "      <td>1875-11-15</td>\n",
       "      <td>11</td>\n",
       "      <td>1875</td>\n",
       "    </tr>\n",
       "    <tr>\n",
       "      <th>3</th>\n",
       "      <td>ASN00048013</td>\n",
       "      <td>18751114</td>\n",
       "      <td>TMAX</td>\n",
       "      <td>35.6</td>\n",
       "      <td>AS</td>\n",
       "      <td>1875-11-14</td>\n",
       "      <td>11</td>\n",
       "      <td>1875</td>\n",
       "    </tr>\n",
       "    <tr>\n",
       "      <th>4</th>\n",
       "      <td>ASN00048013</td>\n",
       "      <td>18751113</td>\n",
       "      <td>TMAX</td>\n",
       "      <td>29.7</td>\n",
       "      <td>AS</td>\n",
       "      <td>1875-11-13</td>\n",
       "      <td>11</td>\n",
       "      <td>1875</td>\n",
       "    </tr>\n",
       "    <tr>\n",
       "      <th>...</th>\n",
       "      <td>...</td>\n",
       "      <td>...</td>\n",
       "      <td>...</td>\n",
       "      <td>...</td>\n",
       "      <td>...</td>\n",
       "      <td>...</td>\n",
       "      <td>...</td>\n",
       "      <td>...</td>\n",
       "    </tr>\n",
       "    <tr>\n",
       "      <th>132312</th>\n",
       "      <td>USW00094728</td>\n",
       "      <td>18700105</td>\n",
       "      <td>TMAX</td>\n",
       "      <td>1.1</td>\n",
       "      <td>US</td>\n",
       "      <td>1870-01-05</td>\n",
       "      <td>1</td>\n",
       "      <td>1870</td>\n",
       "    </tr>\n",
       "    <tr>\n",
       "      <th>132313</th>\n",
       "      <td>USW00094728</td>\n",
       "      <td>18700104</td>\n",
       "      <td>TMAX</td>\n",
       "      <td>1.7</td>\n",
       "      <td>US</td>\n",
       "      <td>1870-01-04</td>\n",
       "      <td>1</td>\n",
       "      <td>1870</td>\n",
       "    </tr>\n",
       "    <tr>\n",
       "      <th>132314</th>\n",
       "      <td>USW00094728</td>\n",
       "      <td>18700103</td>\n",
       "      <td>TMAX</td>\n",
       "      <td>5.0</td>\n",
       "      <td>US</td>\n",
       "      <td>1870-01-03</td>\n",
       "      <td>1</td>\n",
       "      <td>1870</td>\n",
       "    </tr>\n",
       "    <tr>\n",
       "      <th>132315</th>\n",
       "      <td>USW00094728</td>\n",
       "      <td>18700102</td>\n",
       "      <td>TMAX</td>\n",
       "      <td>12.2</td>\n",
       "      <td>US</td>\n",
       "      <td>1870-01-02</td>\n",
       "      <td>1</td>\n",
       "      <td>1870</td>\n",
       "    </tr>\n",
       "    <tr>\n",
       "      <th>132316</th>\n",
       "      <td>USW00094728</td>\n",
       "      <td>18700101</td>\n",
       "      <td>TMAX</td>\n",
       "      <td>6.1</td>\n",
       "      <td>US</td>\n",
       "      <td>1870-01-01</td>\n",
       "      <td>1</td>\n",
       "      <td>1870</td>\n",
       "    </tr>\n",
       "  </tbody>\n",
       "</table>\n",
       "<p>132317 rows × 8 columns</p>\n",
       "</div>"
      ]
     },
     "metadata": {},
     "execution_count": 95
    }
   ],
   "metadata": {}
  },
  {
   "cell_type": "code",
   "execution_count": null,
   "source": [],
   "outputs": [],
   "metadata": {
    "deletable": false,
    "editable": false,
    "nbgrader": {
     "cell_type": "code",
     "checksum": "df46e0f8cdbad9d34e734605451c69e6",
     "grade": true,
     "grade_id": "problem_234_tests",
     "locked": true,
     "points": 1,
     "schema_version": 3,
     "solution": false,
     "task": false
    }
   }
  },
  {
   "cell_type": "markdown",
   "source": [
    "> **Ex. 2.NEW (Not seen in module 2):** Try to plot the observations value of `df_weather_period` by running `df_weather_period.obs_value.plot()`. Something seems off, right? Now try to inspect the problematic subset of the dataframe by running `df_weather_period[df_weather_period.obs_value < -50]`. What can these three observations be characterized as? Drop ALL observations from the associated station from `df_weather_period`, reset the index and drop the column with the old index. Store the dataframe back into the variable `df_weather_period`."
   ],
   "metadata": {
    "deletable": false,
    "editable": false,
    "nbgrader": {
     "cell_type": "markdown",
     "checksum": "a66b53b7ae813ca45dc2578cea089c5d",
     "grade": false,
     "grade_id": "cell-7a8591d457df256a",
     "locked": true,
     "schema_version": 3,
     "solution": false,
     "task": false
    }
   }
  },
  {
   "cell_type": "code",
   "execution_count": 96,
   "source": [
    "# Exploratory plot\n",
    "df_weather_period.obs_value.plot(figsize=[11,6])\n",
    "\n",
    "# Detecting outliers\n",
    "df_weather_period[df_weather_period.obs_value < -50]\n",
    "# These three observations can be characterized as outliers or simply misreported observations. \n",
    "# -273 celcius degrees is the absolute minimum temperature, so -573.3 celcius degrees is not possible.\n",
    "\n",
    "# Drop rows, where obs_value < -50 + drop old index and reset\n",
    "df_weather_period = df_weather_period[df_weather_period['obs_value']>= -50]\\\n",
    "                                                    .reset_index(drop=True)"
   ],
   "outputs": [
    {
     "output_type": "display_data",
     "data": {
      "text/plain": [
       "<Figure size 792x432 with 1 Axes>"
      ],
      "image/png": "[encoded data removed]"
     },
     "metadata": {
      "needs_background": "light"
     }
    }
   ],
   "metadata": {
    "deletable": false,
    "nbgrader": {
     "cell_type": "code",
     "checksum": "a2de59076e97751d5e76fa532723f768",
     "grade": false,
     "grade_id": "problem_notseenexercises",
     "locked": false,
     "schema_version": 3,
     "solution": true,
     "task": false
    }
   }
  },
  {
   "cell_type": "code",
   "execution_count": 98,
   "source": [
    "# Printing dataframe\n",
    "df_weather_period"
   ],
   "outputs": [
    {
     "output_type": "execute_result",
     "data": {
      "text/plain": [
       "            station  datetime obs_type  obs_value area datetime_dt  month  \\\n",
       "0       ASN00048013  18751117     TMAX       38.3   AS  1875-11-17     11   \n",
       "1       ASN00048013  18751116     TMAX       33.8   AS  1875-11-16     11   \n",
       "2       ASN00048013  18751115     TMAX       32.8   AS  1875-11-15     11   \n",
       "3       ASN00048013  18751114     TMAX       35.6   AS  1875-11-14     11   \n",
       "4       ASN00048013  18751113     TMAX       29.7   AS  1875-11-13     11   \n",
       "...             ...       ...      ...        ...  ...         ...    ...   \n",
       "132309  USW00094728  18700105     TMAX        1.1   US  1870-01-05      1   \n",
       "132310  USW00094728  18700104     TMAX        1.7   US  1870-01-04      1   \n",
       "132311  USW00094728  18700103     TMAX        5.0   US  1870-01-03      1   \n",
       "132312  USW00094728  18700102     TMAX       12.2   US  1870-01-02      1   \n",
       "132313  USW00094728  18700101     TMAX        6.1   US  1870-01-01      1   \n",
       "\n",
       "        year  \n",
       "0       1875  \n",
       "1       1875  \n",
       "2       1875  \n",
       "3       1875  \n",
       "4       1875  \n",
       "...      ...  \n",
       "132309  1870  \n",
       "132310  1870  \n",
       "132311  1870  \n",
       "132312  1870  \n",
       "132313  1870  \n",
       "\n",
       "[132314 rows x 8 columns]"
      ],
      "text/html": [
       "<div>\n",
       "<style scoped>\n",
       "    .dataframe tbody tr th:only-of-type {\n",
       "        vertical-align: middle;\n",
       "    }\n",
       "\n",
       "    .dataframe tbody tr th {\n",
       "        vertical-align: top;\n",
       "    }\n",
       "\n",
       "    .dataframe thead th {\n",
       "        text-align: right;\n",
       "    }\n",
       "</style>\n",
       "<table border=\"1\" class=\"dataframe\">\n",
       "  <thead>\n",
       "    <tr style=\"text-align: right;\">\n",
       "      <th></th>\n",
       "      <th>station</th>\n",
       "      <th>datetime</th>\n",
       "      <th>obs_type</th>\n",
       "      <th>obs_value</th>\n",
       "      <th>area</th>\n",
       "      <th>datetime_dt</th>\n",
       "      <th>month</th>\n",
       "      <th>year</th>\n",
       "    </tr>\n",
       "  </thead>\n",
       "  <tbody>\n",
       "    <tr>\n",
       "      <th>0</th>\n",
       "      <td>ASN00048013</td>\n",
       "      <td>18751117</td>\n",
       "      <td>TMAX</td>\n",
       "      <td>38.3</td>\n",
       "      <td>AS</td>\n",
       "      <td>1875-11-17</td>\n",
       "      <td>11</td>\n",
       "      <td>1875</td>\n",
       "    </tr>\n",
       "    <tr>\n",
       "      <th>1</th>\n",
       "      <td>ASN00048013</td>\n",
       "      <td>18751116</td>\n",
       "      <td>TMAX</td>\n",
       "      <td>33.8</td>\n",
       "      <td>AS</td>\n",
       "      <td>1875-11-16</td>\n",
       "      <td>11</td>\n",
       "      <td>1875</td>\n",
       "    </tr>\n",
       "    <tr>\n",
       "      <th>2</th>\n",
       "      <td>ASN00048013</td>\n",
       "      <td>18751115</td>\n",
       "      <td>TMAX</td>\n",
       "      <td>32.8</td>\n",
       "      <td>AS</td>\n",
       "      <td>1875-11-15</td>\n",
       "      <td>11</td>\n",
       "      <td>1875</td>\n",
       "    </tr>\n",
       "    <tr>\n",
       "      <th>3</th>\n",
       "      <td>ASN00048013</td>\n",
       "      <td>18751114</td>\n",
       "      <td>TMAX</td>\n",
       "      <td>35.6</td>\n",
       "      <td>AS</td>\n",
       "      <td>1875-11-14</td>\n",
       "      <td>11</td>\n",
       "      <td>1875</td>\n",
       "    </tr>\n",
       "    <tr>\n",
       "      <th>4</th>\n",
       "      <td>ASN00048013</td>\n",
       "      <td>18751113</td>\n",
       "      <td>TMAX</td>\n",
       "      <td>29.7</td>\n",
       "      <td>AS</td>\n",
       "      <td>1875-11-13</td>\n",
       "      <td>11</td>\n",
       "      <td>1875</td>\n",
       "    </tr>\n",
       "    <tr>\n",
       "      <th>...</th>\n",
       "      <td>...</td>\n",
       "      <td>...</td>\n",
       "      <td>...</td>\n",
       "      <td>...</td>\n",
       "      <td>...</td>\n",
       "      <td>...</td>\n",
       "      <td>...</td>\n",
       "      <td>...</td>\n",
       "    </tr>\n",
       "    <tr>\n",
       "      <th>132309</th>\n",
       "      <td>USW00094728</td>\n",
       "      <td>18700105</td>\n",
       "      <td>TMAX</td>\n",
       "      <td>1.1</td>\n",
       "      <td>US</td>\n",
       "      <td>1870-01-05</td>\n",
       "      <td>1</td>\n",
       "      <td>1870</td>\n",
       "    </tr>\n",
       "    <tr>\n",
       "      <th>132310</th>\n",
       "      <td>USW00094728</td>\n",
       "      <td>18700104</td>\n",
       "      <td>TMAX</td>\n",
       "      <td>1.7</td>\n",
       "      <td>US</td>\n",
       "      <td>1870-01-04</td>\n",
       "      <td>1</td>\n",
       "      <td>1870</td>\n",
       "    </tr>\n",
       "    <tr>\n",
       "      <th>132311</th>\n",
       "      <td>USW00094728</td>\n",
       "      <td>18700103</td>\n",
       "      <td>TMAX</td>\n",
       "      <td>5.0</td>\n",
       "      <td>US</td>\n",
       "      <td>1870-01-03</td>\n",
       "      <td>1</td>\n",
       "      <td>1870</td>\n",
       "    </tr>\n",
       "    <tr>\n",
       "      <th>132312</th>\n",
       "      <td>USW00094728</td>\n",
       "      <td>18700102</td>\n",
       "      <td>TMAX</td>\n",
       "      <td>12.2</td>\n",
       "      <td>US</td>\n",
       "      <td>1870-01-02</td>\n",
       "      <td>1</td>\n",
       "      <td>1870</td>\n",
       "    </tr>\n",
       "    <tr>\n",
       "      <th>132313</th>\n",
       "      <td>USW00094728</td>\n",
       "      <td>18700101</td>\n",
       "      <td>TMAX</td>\n",
       "      <td>6.1</td>\n",
       "      <td>US</td>\n",
       "      <td>1870-01-01</td>\n",
       "      <td>1</td>\n",
       "      <td>1870</td>\n",
       "    </tr>\n",
       "  </tbody>\n",
       "</table>\n",
       "<p>132314 rows × 8 columns</p>\n",
       "</div>"
      ]
     },
     "metadata": {},
     "execution_count": 98
    }
   ],
   "metadata": {}
  },
  {
   "cell_type": "code",
   "execution_count": 99,
   "source": [
    "# Taking a new look at the plot without outliers\n",
    "df_weather_period.obs_value.plot(figsize=[11,6])"
   ],
   "outputs": [
    {
     "output_type": "execute_result",
     "data": {
      "text/plain": [
       "<AxesSubplot:>"
      ]
     },
     "metadata": {},
     "execution_count": 99
    },
    {
     "output_type": "display_data",
     "data": {
      "text/plain": [
       "<Figure size 792x432 with 1 Axes>"
      ],
      "image/png": "[encoded data removed]"
     },
     "metadata": {
      "needs_background": "light"
     }
    }
   ],
   "metadata": {}
  },
  {
   "cell_type": "code",
   "execution_count": null,
   "source": [],
   "outputs": [],
   "metadata": {
    "deletable": false,
    "editable": false,
    "nbgrader": {
     "cell_type": "code",
     "checksum": "5971a3b2c04c14fb5fb5f180e25ff481",
     "grade": true,
     "grade_id": "problem_notseenexercises_tests",
     "locked": true,
     "points": 1,
     "schema_version": 3,
     "solution": false,
     "task": false
    }
   }
  },
  {
   "cell_type": "markdown",
   "source": [
    "> **Ex. 2.3.2:** \n",
    "Continuing with the `df_weather_period` from last exercise, do the following:\n",
    "> 1. Convert the `area` column to a categorical variable. \n",
    "> 2. Transform the `obs_value` column from a continuous to a categorical variable by partitioning it into `3` intervals. The first interval should contain observations with values of `obs_value` up to the 10% quantile. The second interval should contain observations with values of `obs_value` up to the 90% quantile. The third interval should contain the rest of the observations. Call this new column for `obs_value_cat`.  This can be done using the `pd.qcut()` method.\n",
    "> 3. Make another column with  `obs_value` as a categorical variable but this time label the 3 intervals as `[\"cold\", \"medium\", \"hot\"]`. This can be done by specifying the `labels` parameter in the `pd.qcut()` method of pandas. Call this new column for `obs_value_cat_labeled`."
   ],
   "metadata": {
    "deletable": false,
    "editable": false,
    "nbgrader": {
     "cell_type": "markdown",
     "checksum": "b1b79752e5634da4d89aa3ae634563e0",
     "grade": false,
     "grade_id": "cell-c2f8ff075ab551a8",
     "locked": true,
     "schema_version": 3,
     "solution": false,
     "task": false
    }
   }
  },
  {
   "cell_type": "code",
   "execution_count": 105,
   "source": [
    "# Converting the area column to a categorical variable (with no order)\n",
    "cats_area = df_weather_period['area'].astype('category')\n",
    "print(cats_area)\n",
    "\n",
    "# Transforming the obs_value column to a categorical variable by partitioning it into 3 intervals\n",
    "obs_value_cat = pd.qcut(pd.Series(df_weather_period['obs_value']), q = [0, 0.10, 0.90, 1])\n",
    "obs_value_cat.cat.categories\n",
    "\n",
    "# Making another column with obs_value as categorical variables with labels\n",
    "obs_value_cat_labeled = pd.qcut(pd.Series(df_weather_period['obs_value']), q = [0, 0.10, 0.90, 1], labels = [\"cold\", \"medium\", \"hot\"])\n",
    "obs_value_cat_labeled.cat.categories"
   ],
   "outputs": [
    {
     "output_type": "stream",
     "name": "stdout",
     "text": [
      "0         AS\n",
      "1         AS\n",
      "2         AS\n",
      "3         AS\n",
      "4         AS\n",
      "          ..\n",
      "132309    US\n",
      "132310    US\n",
      "132311    US\n",
      "132312    US\n",
      "132313    US\n",
      "Name: area, Length: 132314, dtype: category\n",
      "Categories (13, object): ['AS', 'AU', 'BE', 'CA', ..., 'IT', 'SZ', 'UK', 'US']\n"
     ]
    },
    {
     "output_type": "execute_result",
     "data": {
      "text/plain": [
       "Index(['cold', 'medium', 'hot'], dtype='object')"
      ]
     },
     "metadata": {},
     "execution_count": 105
    }
   ],
   "metadata": {
    "deletable": false,
    "nbgrader": {
     "cell_type": "code",
     "checksum": "5a0243b6c65b39af72e8d1efead106e8",
     "grade": false,
     "grade_id": "problem_232",
     "locked": false,
     "schema_version": 3,
     "solution": true,
     "task": false
    }
   }
  },
  {
   "cell_type": "code",
   "execution_count": 106,
   "source": [
    "# Printing dataframe\n",
    "df_weather_period"
   ],
   "outputs": [
    {
     "output_type": "execute_result",
     "data": {
      "text/plain": [
       "            station  datetime obs_type  obs_value area datetime_dt  month  \\\n",
       "0       ASN00048013  18751117     TMAX       38.3   AS  1875-11-17     11   \n",
       "1       ASN00048013  18751116     TMAX       33.8   AS  1875-11-16     11   \n",
       "2       ASN00048013  18751115     TMAX       32.8   AS  1875-11-15     11   \n",
       "3       ASN00048013  18751114     TMAX       35.6   AS  1875-11-14     11   \n",
       "4       ASN00048013  18751113     TMAX       29.7   AS  1875-11-13     11   \n",
       "...             ...       ...      ...        ...  ...         ...    ...   \n",
       "132309  USW00094728  18700105     TMAX        1.1   US  1870-01-05      1   \n",
       "132310  USW00094728  18700104     TMAX        1.7   US  1870-01-04      1   \n",
       "132311  USW00094728  18700103     TMAX        5.0   US  1870-01-03      1   \n",
       "132312  USW00094728  18700102     TMAX       12.2   US  1870-01-02      1   \n",
       "132313  USW00094728  18700101     TMAX        6.1   US  1870-01-01      1   \n",
       "\n",
       "        year obs_value_cat_labeled  \n",
       "0       1875                   hot  \n",
       "1       1875                   hot  \n",
       "2       1875                   hot  \n",
       "3       1875                   hot  \n",
       "4       1875                   hot  \n",
       "...      ...                   ...  \n",
       "132309  1870                medium  \n",
       "132310  1870                medium  \n",
       "132311  1870                medium  \n",
       "132312  1870                medium  \n",
       "132313  1870                medium  \n",
       "\n",
       "[132314 rows x 9 columns]"
      ],
      "text/html": [
       "<div>\n",
       "<style scoped>\n",
       "    .dataframe tbody tr th:only-of-type {\n",
       "        vertical-align: middle;\n",
       "    }\n",
       "\n",
       "    .dataframe tbody tr th {\n",
       "        vertical-align: top;\n",
       "    }\n",
       "\n",
       "    .dataframe thead th {\n",
       "        text-align: right;\n",
       "    }\n",
       "</style>\n",
       "<table border=\"1\" class=\"dataframe\">\n",
       "  <thead>\n",
       "    <tr style=\"text-align: right;\">\n",
       "      <th></th>\n",
       "      <th>station</th>\n",
       "      <th>datetime</th>\n",
       "      <th>obs_type</th>\n",
       "      <th>obs_value</th>\n",
       "      <th>area</th>\n",
       "      <th>datetime_dt</th>\n",
       "      <th>month</th>\n",
       "      <th>year</th>\n",
       "      <th>obs_value_cat_labeled</th>\n",
       "    </tr>\n",
       "  </thead>\n",
       "  <tbody>\n",
       "    <tr>\n",
       "      <th>0</th>\n",
       "      <td>ASN00048013</td>\n",
       "      <td>18751117</td>\n",
       "      <td>TMAX</td>\n",
       "      <td>38.3</td>\n",
       "      <td>AS</td>\n",
       "      <td>1875-11-17</td>\n",
       "      <td>11</td>\n",
       "      <td>1875</td>\n",
       "      <td>hot</td>\n",
       "    </tr>\n",
       "    <tr>\n",
       "      <th>1</th>\n",
       "      <td>ASN00048013</td>\n",
       "      <td>18751116</td>\n",
       "      <td>TMAX</td>\n",
       "      <td>33.8</td>\n",
       "      <td>AS</td>\n",
       "      <td>1875-11-16</td>\n",
       "      <td>11</td>\n",
       "      <td>1875</td>\n",
       "      <td>hot</td>\n",
       "    </tr>\n",
       "    <tr>\n",
       "      <th>2</th>\n",
       "      <td>ASN00048013</td>\n",
       "      <td>18751115</td>\n",
       "      <td>TMAX</td>\n",
       "      <td>32.8</td>\n",
       "      <td>AS</td>\n",
       "      <td>1875-11-15</td>\n",
       "      <td>11</td>\n",
       "      <td>1875</td>\n",
       "      <td>hot</td>\n",
       "    </tr>\n",
       "    <tr>\n",
       "      <th>3</th>\n",
       "      <td>ASN00048013</td>\n",
       "      <td>18751114</td>\n",
       "      <td>TMAX</td>\n",
       "      <td>35.6</td>\n",
       "      <td>AS</td>\n",
       "      <td>1875-11-14</td>\n",
       "      <td>11</td>\n",
       "      <td>1875</td>\n",
       "      <td>hot</td>\n",
       "    </tr>\n",
       "    <tr>\n",
       "      <th>4</th>\n",
       "      <td>ASN00048013</td>\n",
       "      <td>18751113</td>\n",
       "      <td>TMAX</td>\n",
       "      <td>29.7</td>\n",
       "      <td>AS</td>\n",
       "      <td>1875-11-13</td>\n",
       "      <td>11</td>\n",
       "      <td>1875</td>\n",
       "      <td>hot</td>\n",
       "    </tr>\n",
       "    <tr>\n",
       "      <th>...</th>\n",
       "      <td>...</td>\n",
       "      <td>...</td>\n",
       "      <td>...</td>\n",
       "      <td>...</td>\n",
       "      <td>...</td>\n",
       "      <td>...</td>\n",
       "      <td>...</td>\n",
       "      <td>...</td>\n",
       "      <td>...</td>\n",
       "    </tr>\n",
       "    <tr>\n",
       "      <th>132309</th>\n",
       "      <td>USW00094728</td>\n",
       "      <td>18700105</td>\n",
       "      <td>TMAX</td>\n",
       "      <td>1.1</td>\n",
       "      <td>US</td>\n",
       "      <td>1870-01-05</td>\n",
       "      <td>1</td>\n",
       "      <td>1870</td>\n",
       "      <td>medium</td>\n",
       "    </tr>\n",
       "    <tr>\n",
       "      <th>132310</th>\n",
       "      <td>USW00094728</td>\n",
       "      <td>18700104</td>\n",
       "      <td>TMAX</td>\n",
       "      <td>1.7</td>\n",
       "      <td>US</td>\n",
       "      <td>1870-01-04</td>\n",
       "      <td>1</td>\n",
       "      <td>1870</td>\n",
       "      <td>medium</td>\n",
       "    </tr>\n",
       "    <tr>\n",
       "      <th>132311</th>\n",
       "      <td>USW00094728</td>\n",
       "      <td>18700103</td>\n",
       "      <td>TMAX</td>\n",
       "      <td>5.0</td>\n",
       "      <td>US</td>\n",
       "      <td>1870-01-03</td>\n",
       "      <td>1</td>\n",
       "      <td>1870</td>\n",
       "      <td>medium</td>\n",
       "    </tr>\n",
       "    <tr>\n",
       "      <th>132312</th>\n",
       "      <td>USW00094728</td>\n",
       "      <td>18700102</td>\n",
       "      <td>TMAX</td>\n",
       "      <td>12.2</td>\n",
       "      <td>US</td>\n",
       "      <td>1870-01-02</td>\n",
       "      <td>1</td>\n",
       "      <td>1870</td>\n",
       "      <td>medium</td>\n",
       "    </tr>\n",
       "    <tr>\n",
       "      <th>132313</th>\n",
       "      <td>USW00094728</td>\n",
       "      <td>18700101</td>\n",
       "      <td>TMAX</td>\n",
       "      <td>6.1</td>\n",
       "      <td>US</td>\n",
       "      <td>1870-01-01</td>\n",
       "      <td>1</td>\n",
       "      <td>1870</td>\n",
       "      <td>medium</td>\n",
       "    </tr>\n",
       "  </tbody>\n",
       "</table>\n",
       "<p>132314 rows × 9 columns</p>\n",
       "</div>"
      ]
     },
     "metadata": {},
     "execution_count": 106
    }
   ],
   "metadata": {}
  },
  {
   "cell_type": "code",
   "execution_count": null,
   "source": [],
   "outputs": [],
   "metadata": {
    "deletable": false,
    "editable": false,
    "nbgrader": {
     "cell_type": "code",
     "checksum": "ed4589eb5606644a884cfc75dd36d40f",
     "grade": true,
     "grade_id": "problem_232_tests",
     "locked": true,
     "points": 1,
     "schema_version": 3,
     "solution": false,
     "task": false
    }
   }
  },
  {
   "cell_type": "markdown",
   "source": [
    "## Problems from Exercise Set 3:"
   ],
   "metadata": {
    "deletable": false,
    "editable": false,
    "nbgrader": {
     "cell_type": "markdown",
     "checksum": "d0e767d450ff726563ebe1bdb729215f",
     "grade": false,
     "grade_id": "cell-77eabac0ab0cbce5",
     "locked": true,
     "schema_version": 3,
     "solution": false,
     "task": false
    }
   }
  },
  {
   "cell_type": "markdown",
   "source": [
    "> **Ex. 3.3.1:** Compute the mean and median maximum daily temperature for each month-year-station pair on the dataframe `df_weather_period` from last exercise by using the _split-apply-combine_ procedure. Store the results in new columns `tmax_mean` and `tmax_median`. "
   ],
   "metadata": {
    "deletable": false,
    "editable": false,
    "nbgrader": {
     "cell_type": "markdown",
     "checksum": "e51f2766308e96a05a0ac41d19558490",
     "grade": false,
     "grade_id": "cell-4975a2e1ab215936",
     "locked": true,
     "schema_version": 3,
     "solution": false,
     "task": false
    }
   }
  },
  {
   "cell_type": "code",
   "execution_count": null,
   "source": [
    "# YOUR CODE HERE\n",
    "raise NotImplementedError()"
   ],
   "outputs": [],
   "metadata": {
    "deletable": false,
    "nbgrader": {
     "cell_type": "code",
     "checksum": "ce92e895d0a63283094fe6c661cb5b66",
     "grade": false,
     "grade_id": "problem_331",
     "locked": false,
     "schema_version": 3,
     "solution": true,
     "task": false
    }
   }
  },
  {
   "cell_type": "code",
   "execution_count": null,
   "source": [],
   "outputs": [],
   "metadata": {
    "deletable": false,
    "editable": false,
    "nbgrader": {
     "cell_type": "code",
     "checksum": "b200933c81339b97661155bc29d76cef",
     "grade": true,
     "grade_id": "problem_331_tests",
     "locked": true,
     "points": 1,
     "schema_version": 3,
     "solution": false,
     "task": false
    }
   }
  },
  {
   "cell_type": "markdown",
   "source": [
    "> **Ex. 3.3.2:** Plot the monthly max,min, mean, first and third quartiles for maximum temperature for the station with ID _'CA006110549'_ from `df_weather_period`.\n",
    "\n",
    "> *Hint*: the method `describe` computes all these measures. Try to make your plot look like the one below. \n",
    "<img src=\"station_data_plot.png\">"
   ],
   "metadata": {
    "deletable": false,
    "editable": false,
    "nbgrader": {
     "cell_type": "markdown",
     "checksum": "b08abf1e695a30158ab7d2486d7f2035",
     "grade": false,
     "grade_id": "cell-7e77713f98953bac",
     "locked": true,
     "schema_version": 3,
     "solution": false,
     "task": false
    }
   }
  },
  {
   "cell_type": "code",
   "execution_count": null,
   "source": [
    "# YOUR CODE HERE\n",
    "raise NotImplementedError()"
   ],
   "outputs": [],
   "metadata": {
    "deletable": false,
    "nbgrader": {
     "cell_type": "code",
     "checksum": "a3be78d85396ff4390af4af4d247259d",
     "grade": true,
     "grade_id": "problem_332_tests",
     "locked": false,
     "points": 3,
     "schema_version": 3,
     "solution": true,
     "task": false
    }
   }
  },
  {
   "cell_type": "markdown",
   "source": [
    "> **Ex. 3.3.3:** Use the station location data, which is located in this directory, to merge station locations onto `df_weather_period`. The file with station location data is called  `ghcnd-stations.txt`.  Store the result in the variable `final_data`. \n",
    "\n",
    "> _Hint:_ The location data have the folllowing format, \n",
    "\n",
    "```\n",
    "------------------------------\n",
    "Variable   Columns   Type\n",
    "------------------------------\n",
    "ID            1-11   Character\n",
    "LATITUDE     13-20   Real\n",
    "LONGITUDE    22-30   Real\n",
    "ELEVATION    32-37   Real\n",
    "STATE        39-40   Character\n",
    "NAME         42-71   Character\n",
    "GSN FLAG     73-75   Character\n",
    "HCN/CRN FLAG 77-79   Character\n",
    "WMO ID       81-85   Character\n",
    "------------------------------\n",
    "```\n",
    "\n",
    "> *Hint*: The station information has fixed width format - does there exist a pandas reader for that?"
   ],
   "metadata": {
    "deletable": false,
    "editable": false,
    "nbgrader": {
     "cell_type": "markdown",
     "checksum": "686d2c7f6973c41533a7a27562f2df52",
     "grade": false,
     "grade_id": "cell-539af69a1ea23069",
     "locked": true,
     "schema_version": 3,
     "solution": false,
     "task": false
    }
   }
  },
  {
   "cell_type": "code",
   "execution_count": null,
   "source": [
    "# YOUR CODE HERE\n",
    "raise NotImplementedError()"
   ],
   "outputs": [],
   "metadata": {
    "deletable": false,
    "nbgrader": {
     "cell_type": "code",
     "checksum": "80954d4aae5a86c31619d8c6a0710ae2",
     "grade": true,
     "grade_id": "cell-dbf210d3760e0e0a",
     "locked": false,
     "points": 2,
     "schema_version": 3,
     "solution": true,
     "task": false
    }
   }
  },
  {
   "cell_type": "markdown",
   "source": [
    "## Problems from Exercise Set 4:\n",
    "\n",
    "> **Ex. 4.3.5:** This exercise consists of a set of small subelements: \n",
    ">\n",
    "> 0. Show the first five rows of the titanic dataset. What information is in the dataset?\n",
    "> 1. Use a barplot to show the probability of survival for men and women within each passenger class. \n",
    "> 2. Can you make a boxplot showing the same information (why/why not?). \n",
    "> 3. Show a boxplot for the fare-prices within each passenger class. \n",
    "> 4. Combine the two of the figures you created above into a two-panel figure and save it on your computer."
   ],
   "metadata": {
    "deletable": false,
    "editable": false,
    "nbgrader": {
     "cell_type": "markdown",
     "checksum": "6aa607ce0dbc9b4bfb57d56432941579",
     "grade": false,
     "grade_id": "cell-422d30deb292b4c7",
     "locked": true,
     "schema_version": 3,
     "solution": false,
     "task": false
    }
   }
  },
  {
   "cell_type": "code",
   "execution_count": null,
   "source": [
    "# YOUR CODE HERE\n",
    "raise NotImplementedError()"
   ],
   "outputs": [],
   "metadata": {
    "deletable": false,
    "nbgrader": {
     "cell_type": "code",
     "checksum": "a9a37823ec1f2b589e834faa96ea091d",
     "grade": true,
     "grade_id": "problem_435",
     "locked": false,
     "points": 1,
     "schema_version": 3,
     "solution": true,
     "task": false
    }
   }
  },
  {
   "cell_type": "markdown",
   "source": [
    "> **Ex. 4.3.6:** Using the iris flower dataset, draw a scatterplot of sepal length and petal length. Include a second order polynomial fitted to the data. Add a title to the plot and rename the axis labels.\n",
    ">\n",
    "> _Write 3 sentences:_ Is this a meaningful way to display the data? What could we do differently?\n",
    ">\n",
    "> For a better understanding of the dataset this image might be useful:\n",
    "> <img src=\"iris_pic.png\" alt=\"Drawing\" style=\"width: 200px;\"/>\n",
    ">\n",
    "> _Hint:_ Use the `.regplot` method from seaborn. "
   ],
   "metadata": {
    "deletable": false,
    "editable": false,
    "nbgrader": {
     "cell_type": "markdown",
     "checksum": "77c37844cf82448bcd9e74196ca6b882",
     "grade": false,
     "grade_id": "cell-ee5aba685162b837",
     "locked": true,
     "schema_version": 3,
     "solution": false,
     "task": false
    }
   }
  },
  {
   "cell_type": "code",
   "execution_count": null,
   "source": [
    "# YOUR CODE HERE\n",
    "raise NotImplementedError()"
   ],
   "outputs": [],
   "metadata": {
    "deletable": false,
    "nbgrader": {
     "cell_type": "code",
     "checksum": "7ad886b2ef8293f79cb37b78833ff7cc",
     "grade": true,
     "grade_id": "problem_436",
     "locked": false,
     "points": 1,
     "schema_version": 3,
     "solution": true,
     "task": false
    }
   }
  },
  {
   "cell_type": "markdown",
   "source": [
    "> **Ex. 4.3.7:** Use [pairplot with hue](https://seaborn.pydata.org/generated/seaborn.pairplot.html) to create a figure that clearly shows how the different species vary across measurements in the iris dataset. Change the color palette and remove the shading from the density plots. _Bonus:_ Try to explain how the `diag_kws` argument works (_hint:_ [read here](https://stackoverflow.com/questions/1769403/understanding-kwargs-in-python))"
   ],
   "metadata": {
    "deletable": false,
    "editable": false,
    "nbgrader": {
     "cell_type": "markdown",
     "checksum": "4330f62f04b07d60e818eb1893bbf82d",
     "grade": false,
     "grade_id": "cell-e6d0c56f1cf535c5",
     "locked": true,
     "schema_version": 3,
     "solution": false,
     "task": false
    }
   }
  },
  {
   "cell_type": "code",
   "execution_count": null,
   "source": [
    "# YOUR CODE HERE\n",
    "raise NotImplementedError()"
   ],
   "outputs": [],
   "metadata": {
    "deletable": false,
    "nbgrader": {
     "cell_type": "code",
     "checksum": "19e3feab810ee078ec29408d99334983",
     "grade": true,
     "grade_id": "problem_437",
     "locked": false,
     "points": 1,
     "schema_version": 3,
     "solution": true,
     "task": false
    }
   }
  },
  {
   "cell_type": "markdown",
   "source": [
    "## Problems from Exercise Set 6\n",
    "\n",
    "> **Ex. 6.1.2.:** Use the `request` module to collect the first page of job postings and unpack the relevant `json` data into a `pandas` DataFrame."
   ],
   "metadata": {
    "deletable": false,
    "editable": false,
    "nbgrader": {
     "cell_type": "markdown",
     "checksum": "a4186d0ebd2c5fb68645d2d9e426d726",
     "grade": false,
     "grade_id": "cell-8302a588a83d0e73",
     "locked": true,
     "schema_version": 3,
     "solution": false,
     "task": false
    }
   }
  },
  {
   "cell_type": "code",
   "execution_count": null,
   "source": [
    "# YOUR CODE HERE\n",
    "raise NotImplementedError()"
   ],
   "outputs": [],
   "metadata": {
    "deletable": false,
    "nbgrader": {
     "cell_type": "code",
     "checksum": "8db1d5a470dcc2e13f62be3642b79ddd",
     "grade": false,
     "grade_id": "problem_612",
     "locked": false,
     "schema_version": 3,
     "solution": true,
     "task": false
    }
   }
  },
  {
   "cell_type": "code",
   "execution_count": null,
   "source": [
    "assert sorted(df.columns) == ['Abroad', 'AnonymousEmployer', 'AssignmentStartDate', 'AutomatchType', 'Country', \n",
    "                              'DetailsUrl', 'EmploymentType', 'FormattedLastDateApplication', 'HasLocationValues', \n",
    "                              'HiringOrgCVR', 'HiringOrgName', 'ID', 'IsExternal', 'IsHotjob', 'JobAnnouncementType', \n",
    "                              'JobHeadline', 'JobLogUrl', 'JoblogWorkTime', 'LastDateApplication', 'Latitude', 'Location',\n",
    "                              'Longitude', 'Municipality', 'Occupation', 'OccupationArea', 'OccupationGroup', \n",
    "                              'OrganisationId', 'PostalCode', 'PostalCodeName', 'PostingCreated', 'Presentation',\n",
    "                              'Region', 'ShareUrl', 'Title', 'Url', 'UseWorkPlaceAddressForJoblog', 'UserLoggedIn',\n",
    "                              'Weight', 'WorkHours', 'WorkPlaceAbroad', 'WorkPlaceAddress', 'WorkPlaceCity',\n",
    "                              'WorkPlaceNotStatic', 'WorkPlaceOtherAddress', 'WorkPlacePostalCode', 'WorkplaceID']\n",
    "assert len(df) == 20"
   ],
   "outputs": [],
   "metadata": {
    "deletable": false,
    "editable": false,
    "nbgrader": {
     "cell_type": "code",
     "checksum": "1d697791c6f991e806f21145a7149309",
     "grade": true,
     "grade_id": "problem_612_tests",
     "locked": true,
     "points": 1,
     "schema_version": 3,
     "solution": false,
     "task": false
    }
   }
  },
  {
   "cell_type": "markdown",
   "source": [
    "> **Ex. 6.1.3.:** How many results do you find in total? Store this number as 'TotalResultCount' for later use."
   ],
   "metadata": {
    "deletable": false,
    "editable": false,
    "nbgrader": {
     "cell_type": "markdown",
     "checksum": "6f9d2b3dcba0749ece159e9c9437d75c",
     "grade": false,
     "grade_id": "cell-28466edfcc8ce716",
     "locked": true,
     "schema_version": 3,
     "solution": false,
     "task": false
    }
   }
  },
  {
   "cell_type": "code",
   "execution_count": null,
   "source": [
    "# YOUR CODE HERE\n",
    "raise NotImplementedError()"
   ],
   "outputs": [],
   "metadata": {
    "deletable": false,
    "nbgrader": {
     "cell_type": "code",
     "checksum": "eb3de77cb24172bcf6ede32ef6ca6545",
     "grade": true,
     "grade_id": "problem_613",
     "locked": false,
     "points": 1,
     "schema_version": 3,
     "solution": true,
     "task": false
    }
   }
  },
  {
   "cell_type": "markdown",
   "source": [
    "## Problems from Exercise Set 7\n",
    "\n",
    "> **Ex. 7.2.1:** Here we practice locating the table node of interest using the `find` method build into BeautifoulSoup. But first we have to fetch the HTML using the `requests` module. Parse the tree using `BeautifulSoup`. Next, use the **>Inspector<** tool (*right click on the table < press inspect element*) in your browser to see how to locate the Eastern Conference table node - i.e. the *tag* name of the node, and maybe some defining *attributes*.\n"
   ],
   "metadata": {
    "deletable": false,
    "editable": false,
    "nbgrader": {
     "cell_type": "markdown",
     "checksum": "7df6544e596d6c12679f46df0172e7b3",
     "grade": false,
     "grade_id": "cell-00d91a2dea068771",
     "locked": true,
     "schema_version": 3,
     "solution": false,
     "task": false
    }
   }
  },
  {
   "cell_type": "code",
   "execution_count": null,
   "source": [
    "# YOUR CODE HERE\n",
    "raise NotImplementedError()"
   ],
   "outputs": [],
   "metadata": {
    "deletable": false,
    "nbgrader": {
     "cell_type": "code",
     "checksum": "eff0b1c57b8bec049808e5b2f0f50bd8",
     "grade": true,
     "grade_id": "problem_721",
     "locked": false,
     "points": 1,
     "schema_version": 3,
     "solution": true,
     "task": false
    }
   }
  }
 ],
 "metadata": {
  "kernelspec": {
   "display_name": "Python 3",
   "language": "python",
   "name": "python3"
  },
  "language_info": {
   "codemirror_mode": {
    "name": "ipython",
    "version": 3
   },
   "file_extension": ".py",
   "mimetype": "text/x-python",
   "name": "python",
   "nbconvert_exporter": "python",
   "pygments_lexer": "ipython3",
   "version": "3.8.5"
  },
  "varInspector": {
   "cols": {
    "lenName": 16,
    "lenType": 16,
    "lenVar": 40
   },
   "kernels_config": {
    "python": {
     "delete_cmd_postfix": "",
     "delete_cmd_prefix": "del ",
     "library": "var_list.py",
     "varRefreshCmd": "print(var_dic_list())"
    },
    "r": {
     "delete_cmd_postfix": ") ",
     "delete_cmd_prefix": "rm(",
     "library": "var_list.r",
     "varRefreshCmd": "cat(var_dic_list()) "
    }
   },
   "types_to_exclude": [
    "module",
    "function",
    "builtin_function_or_method",
    "instance",
    "_Feature"
   ],
   "window_display": false
  }
 },
 "nbformat": 4,
 "nbformat_minor": 4
}